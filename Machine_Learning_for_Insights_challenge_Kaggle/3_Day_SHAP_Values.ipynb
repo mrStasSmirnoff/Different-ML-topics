{
 "cells": [
  {
   "cell_type": "markdown",
   "metadata": {
    "_uuid": "45bd8f66400ba8071af31ad767acc470603d392f"
   },
   "source": [
    "# ML for Insights Challenge\n",
    "This is day 3 of the ML for Insights challenge.\n",
    "\n",
    "The earlier parts of the challenge are:\n",
    "0. Use Cases for ML Insights: **[Tutorial](https://www.kaggle.com/dansbecker/use-cases-for-model-insights)**\n",
    "1. Permutation Importance: **[Tutorial](https://www.kaggle.com/dansbecker/permutation-importance) - [Exercise](https://www.kaggle.com/dansbecker/exercise-permutation-importance)**\n",
    "2. Partial Depenence Plots: **[Tutorial](https://www.kaggle.com/dansbecker/partial-plots) - [Exercise](https://www.kaggle.com/dansbecker/exercise-partial-plots)**\n",
    "\n",
    "\n",
    "# SHAP Values\n",
    "\n",
    "You've seen (and used) techniques to extract general insights from a machine learning model. But what if you want to break down how the model works for an individual prediction?\n",
    "\n",
    "SHAP Values (an acronym from SHapley Additive exPlanations) break down a prediction to show the impact of each feature. Where could you use this?\n",
    "\n",
    "- A model says a bank shouldn't loan someone money, and the bank is legally required to explain the basis for each loan rejection\n",
    "- A healthcare provider wants to identify what factors are driving each patient's risk of some disease so they can directly address those risk factors with targeted health interventions\n",
    "\n",
    "You'll use SHAP Values to explain individual predictions in this lesson. In the next lesson, you'll see how these can be aggregated into powerful model-level insights.\n",
    "\n",
    "# How They Work\n",
    "SHAP values interpret the impact of having a certain value for a given feature in comparison to the prediction we'd make if that feature took some baseline value.\n",
    "\n",
    "An example is helpful, and we'll continue the soccer/football example from the [permutation importance](https://www.kaggle.com/dansbecker/permutation-importance) and [partial dependence plots](https://www.kaggle.com/dansbecker/partial-plots) lessons.\n",
    "\n",
    "\n",
    "In these tutorials, we predicted whether a team would have a player win the *Man of the Game* award.\n",
    "\n",
    "We could ask:\n",
    "- How much was a prediction driven by the fact that the team scored 3 goals?\n",
    "    \n",
    "But it's easier to give a concrete, numeric answer if we restate this as:\n",
    "- How much was a prediction driven by the fact that the team scored 3 goals, **instead of some baseline number of goals.**\n",
    "\n",
    "Of course, each team has many features. So if we answer this question for `number of goals`, we could repeat the process for all other features.\n",
    "\n",
    "SHAP values do this in a way that guarantees a nice property. When we make a prediction\n",
    "\n",
    "```sum(SHAP values for all features) = pred_for_team - pred_for_baseline_values```\n",
    "\n",
    "That is, the SHAP values of all features sum up to explain why my prediction was different from the baseline. This allows us to decompose a prediction in a graph like this:\n",
    "\n",
    "![Imgur](https://i.imgur.com/JVD2U7k.png)\n",
    "\n",
    "*If you want a larger view of this graph, [here is a link](https://i.imgur.com/JVD2U7k.png)*"
   ]
  },
  {
   "cell_type": "markdown",
   "metadata": {
    "_uuid": "f073c62df653403231cc34748236590bf895b66e"
   },
   "source": [
    "\n",
    "How do you interpret this?\n",
    "\n",
    "We predicted 0.7, whereas the base_value is 0.4979.  Feature values causing increased predictions are in pink, and their visual size shows the magnitude of the feature's effect.  Feature values decreasing the prediction are in blue.  The biggest impact comes from `Goal Scored` being 2.  Though the ball possession value has a meaningful effect decreasing the prediction.\n",
    "\n",
    "If you subtract the length of the blue bars from the length of the pink bars, it equals the distance from the base value to the output.\n",
    "\n",
    "There is some complexity to the technique, to ensure that the baseline plus the sum of individual effects adds up to the prediction (which isn't as straightforward as it sounds.) We won't go into that detail here, since it isn't critical for using the technique. [This blog post](https://towardsdatascience.com/one-feature-attribution-method-to-supposedly-rule-them-all-shapley-values-f3e04534983d) has a longer theoretical explanation.\n",
    "\n",
    "# Code to Calculate SHAP Values\n",
    "We calculate SHAP values using the wonderful [Shap](https://github.com/slundberg/shap) library.\n",
    "\n",
    "For this example, we'll reuse the model you've already seen with the Soccer data."
   ]
  },
  {
   "cell_type": "code",
   "execution_count": null,
   "metadata": {
    "_uuid": "d01a1501fd39b325e076de563d54b293d8410f68"
   },
   "outputs": [],
   "source": [
    "import numpy as np\n",
    "import pandas as pd\n",
    "from sklearn.model_selection import train_test_split\n",
    "from sklearn.ensemble import RandomForestClassifier\n",
    "\n",
    "data = pd.read_csv('../Machine_Learning_for_Insights_challenge_Kaggle/FIFA 2018 Statistics.csv')\n",
    "y = (data['Man of the Match'] == \"Yes\")  # Convert from string \"Yes\"/\"No\" to binary\n",
    "feature_names = [i for i in data.columns if data[i].dtype in [np.int64, np.int64]]\n",
    "X = data[feature_names]\n",
    "#print(X[:5])\n",
    "train_X, val_X, train_y, val_y = train_test_split(X, y, random_state=1)\n",
    "my_model = RandomForestClassifier(random_state=0).fit(train_X, train_y)\n",
    "print(val_X[:6])"
   ]
  },
  {
   "cell_type": "markdown",
   "metadata": {
    "_uuid": "cac2f187f8c52f86b9ebd568b3827f4e2e4aa09a"
   },
   "source": [
    "Here is the code to get the SHAP values for a single prediction."
   ]
  },
  {
   "cell_type": "code",
   "execution_count": null,
   "metadata": {
    "_uuid": "dcca1e3986b75e76840af29f8b856356160c03cb"
   },
   "outputs": [],
   "source": [
    "import shap  # package used to calculate Shap values\n",
    "\n",
    "row_to_show = 5\n",
    "data_for_prediction = val_X.iloc[row_to_show]  # use 1 row of data here. Could use multiple rows if desired\n",
    "print(data_for_prediction)\n",
    "data_for_prediction_array = data_for_prediction.values.reshape(1, -1)\n",
    "print(data_for_prediction_array)\n",
    "\n",
    "# Create object that can calculate shap values\n",
    "explainer = shap.TreeExplainer(my_model)\n",
    "# Calculate Shap values\n",
    "shap_values = explainer.shap_values(data_for_prediction)\n",
    "print(shap_values)"
   ]
  },
  {
   "cell_type": "markdown",
   "metadata": {
    "_uuid": "9e42be8c28db3ccdbd8f1dd8b00a4dee5c31d0e0"
   },
   "source": [
    "The shap_values object above is a list with two arrays. The first array in the list is the SHAP values for a negative outcome (don't win the award.) . The second array is the list of SHAP values for the positive outcome, which is how we usually think about predictions. It's cumbersome to review a raw array, but the shap package has a nice way to visualize the results.  Before doing that, here are the predicted probabilities of each outcome."
   ]
  },
  {
   "cell_type": "code",
   "execution_count": null,
   "metadata": {
    "_uuid": "20ed250089450a8b76bf74f654a3a967c9a15fd2"
   },
   "outputs": [],
   "source": [
    "my_model.predict_proba(data_for_prediction_array)"
   ]
  },
  {
   "cell_type": "markdown",
   "metadata": {
    "_uuid": "9f36ca9cdbcd41f4b5d47bdc6b1b599f98dcbc34"
   },
   "source": [
    "The team is 70% likely to have a player win the award. Now we visualize the SHAP values"
   ]
  },
  {
   "cell_type": "code",
   "execution_count": null,
   "metadata": {
    "_uuid": "ed905d158b922cea74d9cc46feb2b5ce37d1cdbe"
   },
   "outputs": [],
   "source": [
    "shap.initjs()\n",
    "shap.force_plot(explainer.expected_value[1], shap_values[1], data_for_prediction)"
   ]
  },
  {
   "cell_type": "markdown",
   "metadata": {
    "_uuid": "c34a663744c4a719689b41f29319b5462f7e0e35"
   },
   "source": [
    "If you look carefully at the code where we created the SHAP values, you'll notice we reference Trees in `shap.TreeExplainer(my_model)`.  But the SHAP package has explainers for every type of model.\n",
    "\n",
    "- `shap.DeepExplainer` works with Deep Learning models. \n",
    "- `shap.KernelExplainer` works with all models, though it is slower than other Explainers and it offers an approximation rather than exact Shap values.\n",
    "\n",
    "Here is an example using KernelExplainer to get the same results you saw above."
   ]
  },
  {
   "cell_type": "code",
   "execution_count": null,
   "metadata": {
    "_uuid": "0096cd0348bf4da4f180a290a6b579c9d9d4881b"
   },
   "outputs": [],
   "source": [
    "# use Kernel SHAP to explain test set predictions\n",
    "k_explainer = shap.KernelExplainer(my_model.predict_proba, train_X)\n",
    "k_shap_values = k_explainer.shap_values(data_for_prediction)\n",
    "shap.force_plot(explainer.expected_value[1], shap_values[1], data_for_prediction)"
   ]
  }
 ],
 "metadata": {
  "kernelspec": {
   "display_name": "Python 2",
   "language": "python",
   "name": "python2"
  },
  "language_info": {
   "codemirror_mode": {
    "name": "ipython",
    "version": 2
   },
   "file_extension": ".py",
   "mimetype": "text/x-python",
   "name": "python",
   "nbconvert_exporter": "python",
   "pygments_lexer": "ipython2",
   "version": "2.7.13"
  }
 },
 "nbformat": 4,
 "nbformat_minor": 1
}
