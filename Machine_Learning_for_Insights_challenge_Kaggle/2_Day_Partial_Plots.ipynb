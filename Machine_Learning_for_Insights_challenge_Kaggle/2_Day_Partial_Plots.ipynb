{
 "cells": [
  {
   "cell_type": "markdown",
   "metadata": {
    "_uuid": "0210b855e16da9730979a47c72bd25ea04170ff2"
   },
   "source": [
    "# ML for Insights Challenge\n",
    "This is day 2 of the ML for Insights challenge.\n",
    "\n",
    "The earlier parts of the challenge are:\n",
    "0. Use Cases for ML Insights: **[Tutorial](https://www.kaggle.com/dansbecker/use-cases-for-model-insights)**\n",
    "1. Permutation Importance: **[Tutorial](https://www.kaggle.com/dansbecker/permutation-importance) - [Exercise](https://www.kaggle.com/dansbecker/exercise-permutation-importance)**\n",
    "\n",
    "\n",
    "# Partial Dependence Plots\n",
    "\n",
    "While feature importance shows what variables most affect predictions, partial dependence plots show *how* a feature affects predictions.\n",
    "\n",
    "This is useful to answer questions like:\n",
    "\n",
    "* Controlling for all other house features, what impact do longitude and latitude have on home prices? To restate this, how would similarly sized houses be priced in different areas?\n",
    "\n",
    "* Are predicted health differences between two groups due to differences in their diets, or due to some other factor?\n",
    "\n",
    "If you are familiar with linear or logistic regression models, partial dependence plots can be interepreted similarly to the coefficients in those models.  Though, partial dependence plots on sophisticated models can capture more complex patterns than coefficients from simple models.  If you aren't familiar with linear or logistic regressions, don't worry about this comparison.\n",
    "\n",
    "We will show a couple examples, explain the interpretation of these plots, and then review the code to create these plots.\n",
    "\n",
    "# How it Works\n",
    "\n",
    "Like permutation importance, **partial dependence plots are calculated after a model has been fit.**  The model is fit on real data that has not been artificially manipulated in any way.  \n",
    "\n",
    "In our soccer example, teams may differ in many ways. How many passes they made, shots they took, goals they scored, etc. At first glance, it seems difficult to disentangle the effect of these features.\n",
    "\n",
    "To see how partial plots separate out the effect of each feature, we start by considering a single row of data. For example, that row of data might represent a team that had the ball 50% of the time, made 100 passes, took 10 shots and scored 1 goal.\n",
    "\n",
    "We will use the fitted model to predict our outcome (probability their player won \"man of the game\"). But we **repeatedly alter the value for one variable** to make a series of predictions.  We could predict the outcome if the team had the ball only 40% of the time. We then predict with them having the ball 50% of the time.  Then predict again for 60%.  And so on.  We trace out predicted outcomes (on the vertical axis) as we move from small values of ball possession to large values (on the horizontal axis).\n",
    "\n",
    "In this description, we used only a single row of data.  Interactions between features may cause the plot for a single row to be atypical.  So, we repeat that mental experiment with multiple rows from the original dataset, and we plot the average predicted outcome on the vertical axis.  \n",
    "\n",
    "# Code Example\n",
    "\n",
    "Model building isn't our focus, so we won't focus on the data exploration or model building code."
   ]
  },
  {
   "cell_type": "code",
   "execution_count": null,
   "metadata": {
    "_uuid": "73f26bae386caa9ca9c328e8902d5ef9e34c7ab6"
   },
   "outputs": [],
   "source": [
    "import numpy as np\n",
    "import pandas as pd\n",
    "from sklearn.model_selection import train_test_split\n",
    "from sklearn.ensemble import RandomForestClassifier\n",
    "from sklearn.tree import DecisionTreeClassifier\n",
    "\n",
    "data = pd.read_csv('../Machine_Learning_for_Insights_challenge_Kaggle/FIFA 2018 Statistics.csv')\n",
    "#print(data)\n",
    "y = (data['Man of the Match'] == \"Yes\")  # Convert from string \"Yes\"/\"No\" to binary\n",
    "\n",
    "# Distiguish the features which have extension .int64\n",
    "feature_names = [i for i in data.columns if data[i].dtype in [np.int64]]\n",
    "#print(feature_names)\n",
    "# Define  a new set with these features \n",
    "X = data[feature_names]\n",
    "print(X[:5])\n",
    "train_X, val_X, train_y, val_y = train_test_split(X, y, random_state=1)\n",
    "tree_model = DecisionTreeClassifier(random_state=0, max_depth=5, min_samples_split=5).fit(train_X, train_y)"
   ]
  },
  {
   "cell_type": "markdown",
   "metadata": {
    "_uuid": "65abb796537be87ce10d67d4967b26792d8667f2"
   },
   "source": [
    "For the sake of explanation, our first example uses a Decision Tree which you can see below. In practice, you'll use more sophistated models for real-world applications."
   ]
  },
  {
   "cell_type": "code",
   "execution_count": null,
   "metadata": {
    "_uuid": "ba438aabe4805bb5366cd7049fcaf753a439ade9"
   },
   "outputs": [],
   "source": [
    "from sklearn import tree\n",
    "import graphviz\n",
    "import os\n",
    "import sys\n",
    "\n",
    "tree_graph = tree.export_graphviz(tree_model, out_file=None, feature_names=feature_names)\n",
    "#graphviz.Source(tree_graph)"
   ]
  },
  {
   "cell_type": "markdown",
   "metadata": {
    "_uuid": "1b7b15808ecbe66d994cf0545dc7c496e4bbc3f8"
   },
   "source": [
    "As guidance to read the tree:\n",
    "- Leaves with children show their splitting criterion on the top\n",
    "- The pair of values at the bottom show the count of True values and False values for the target respectively, of data points in that node of the tree."
   ]
  },
  {
   "cell_type": "markdown",
   "metadata": {
    "_uuid": "eedc750c74dde5252273a129c9a054a0f3b75ab4"
   },
   "source": [
    "\n",
    "Here is the code to create the Partial Dependence Plot using the [PDPBox library](https://pdpbox.readthedocs.io/en/latest/)."
   ]
  },
  {
   "cell_type": "code",
   "execution_count": null,
   "metadata": {
    "_uuid": "e63ce7d69ac5488a8f5bfd48890fdaa705864229"
   },
   "outputs": [],
   "source": [
    "from matplotlib import pyplot as plt\n",
    "from pdpbox import pdp, get_dataset, info_plots\n",
    "\n",
    "# Create the data that we will plot\n",
    "pdp_goals = pdp.pdp_isolate(model=tree_model, dataset=val_X, model_features=feature_names, feature='Goal Scored')\n",
    "\n",
    "# plot it\n",
    "pdp.pdp_plot(pdp_goals, 'Goal Scored')\n",
    "plt.show()"
   ]
  },
  {
   "cell_type": "markdown",
   "metadata": {
    "_uuid": "9f42090f8e5ca61c8335c9d37fe8cd3dae28e95c"
   },
   "source": [
    "A few items are worth pointing out as you interpret this plot\n",
    "- The y axis is interpreted as **change in the prediction** from what it would be predicted at the baseline or leftmost value.\n",
    "- A blue shaded area indicates level of confidence\n",
    "\n",
    "From this particular graph, we see that scoring a goal substantially increases your chances of winning \"Player of The Game.\"  But extra goals beyond that appear to have little impact on predictions.\n",
    "\n",
    "Here is another example plot:"
   ]
  },
  {
   "cell_type": "code",
   "execution_count": null,
   "metadata": {
    "_uuid": "a54c65993373d8f2d749a295a079f35486d025ce"
   },
   "outputs": [],
   "source": [
    "feature_to_plot = 'Distance Covered (Kms)'\n",
    "pdp_dist = pdp.pdp_isolate(model=tree_model, dataset=val_X, model_features=feature_names, feature=feature_to_plot)\n",
    "\n",
    "pdp.pdp_plot(pdp_dist, feature_to_plot)\n",
    "plt.show()"
   ]
  },
  {
   "cell_type": "markdown",
   "metadata": {
    "_uuid": "6778bba7ac7af47f2eafc4f5c3f6d284f40f8982"
   },
   "source": [
    "This graph seems too simple to represent reality. But that's because the model is so simple. You should be able to see from the decision tree above that this is representing exactly the model's structure.\n",
    "\n",
    "You can easily compare the structure or implications of different models. Here is the same plot with a Random Forest model."
   ]
  },
  {
   "cell_type": "code",
   "execution_count": null,
   "metadata": {
    "_uuid": "9a7bfb66a24d011bd44ce326e0e4da4aa160d025"
   },
   "outputs": [],
   "source": [
    "# Build Random Forest model\n",
    "rf_model = RandomForestClassifier(random_state=0).fit(train_X, train_y)\n",
    "\n",
    "pdp_dist = pdp.pdp_isolate(model=rf_model, dataset=val_X, model_features=feature_names, feature=feature_to_plot)\n",
    "\n",
    "pdp.pdp_plot(pdp_dist, feature_to_plot)\n",
    "plt.show()"
   ]
  },
  {
   "cell_type": "markdown",
   "metadata": {
    "_uuid": "6d7f582b4bfbbbeee65b646d674fc88f753d2e0d"
   },
   "source": [
    "This model thinks you are more likely to win *Player of The Game* if your players run a total of 100km over the course of the game. Though running much more causes lower predictions.\n",
    "\n",
    "In general, the smooth shape of this curve seems more plausible than the step function from the Decision Tree model.  Though this dataset is small enough that we would be careful in how we interpret any model.\n",
    "\n",
    "# 2D Partial Dependence Plots\n",
    "If you are curious about interactions between features, 2D partial dependence plots are also useful. An example may clarify what this.  \n",
    "\n",
    "We will again use the Decision Tree model for this graph.  It will create an extremely simple plot, but you should be able to match what you see in the plot to the tree itself.\n"
   ]
  },
  {
   "cell_type": "code",
   "execution_count": null,
   "metadata": {
    "_uuid": "4f84314691cb7102aa8f58bd69e358121505d2e6"
   },
   "outputs": [],
   "source": [
    "# Similar to previous PDP plot except we use pdp_interact instead of pdp_isolate and pdp_interact_plot instead of pdp_isolate_plot\n",
    "features_to_plot = ['Goal Scored', 'Distance Covered (Kms)']\n",
    "inter1  =  pdp.pdp_interact(model=tree_model, dataset=val_X, model_features=feature_names, features=features_to_plot)\n",
    "\n",
    "pdp.pdp_interact_plot(pdp_interact_out=inter1, feature_names=features_to_plot, plot_type='contour')\n",
    "plt.show()"
   ]
  },
  {
   "cell_type": "markdown",
   "metadata": {
    "_uuid": "690ba84260a44feb57880a64831e70dc9ff6e58a"
   },
   "source": [
    "This graph shows predictions for any combination of Goals Scored and Distance covered. \n",
    "\n",
    "For example, we see the highest predictions when a team scores at least 1 goal and they run a total distance close to 100km.  If they score 0 goals, distance covered doesn't matter. Can you see this by tracing through the decision tree with 0 goals?\n",
    "\n",
    "But distance can impact predictions if they score goals. Make sure you can see this from the 2D partial dependence plot. Can you see this pattern in the decision tree too?"
   ]
  }
 ],
 "metadata": {
  "kernelspec": {
   "display_name": "Python 2",
   "language": "python",
   "name": "python2"
  },
  "language_info": {
   "codemirror_mode": {
    "name": "ipython",
    "version": 2
   },
   "file_extension": ".py",
   "mimetype": "text/x-python",
   "name": "python",
   "nbconvert_exporter": "python",
   "pygments_lexer": "ipython2",
   "version": "2.7.13"
  }
 },
 "nbformat": 4,
 "nbformat_minor": 1
}
