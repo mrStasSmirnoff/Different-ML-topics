{
 "cells": [
  {
   "cell_type": "markdown",
   "metadata": {},
   "source": [
    "The two regression lines of a bivariate distribution are: \n",
    "\n",
    "4x – 5y + 33 = 0 (line of y on x) and  20x – 9y – 107 = 0 (line of x on y). \n",
    "\n",
    "Estimate the value of x when  y = 7. Compute the correct answer to one decimal place.\n",
    "\n",
    "# Output Format \n",
    "\n",
    "In the text box, enter the floating point/decimal value required. Do not lead any leading or trailing spaces. Your answer may look like: 7.2\n",
    "\n",
    "This is NOT the actual answer - just the format in which you should provide your answer."
   ]
  },
  {
   "cell_type": "code",
   "execution_count": 4,
   "metadata": {},
   "outputs": [
    {
     "name": "stdout",
     "output_type": "stream",
     "text": [
      "8.0\n"
     ]
    }
   ],
   "source": [
    "# From 20x - 9y - 107 = 0 we can derive x, that is equal to : (107 + 9y) 20\n",
    "# So we just substitute value of y = 7\n",
    "\n",
    "y = 7\n",
    "\n",
    "x = (9 * y + 107) / 20\n",
    "\n",
    "print (round(x, 1))"
   ]
  }
 ],
 "metadata": {
  "kernelspec": {
   "display_name": "Python 2",
   "language": "python",
   "name": "python2"
  },
  "language_info": {
   "codemirror_mode": {
    "name": "ipython",
    "version": 2
   },
   "file_extension": ".py",
   "mimetype": "text/x-python",
   "name": "python",
   "nbconvert_exporter": "python",
   "pygments_lexer": "ipython2",
   "version": "2.7.13"
  }
 },
 "nbformat": 4,
 "nbformat_minor": 2
}
