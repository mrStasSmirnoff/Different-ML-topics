{
 "cells": [
  {
   "cell_type": "markdown",
   "metadata": {},
   "source": [
    "Here are the test scores of 10 students in physics and history:\n",
    "\n",
    "Physics Scores  15  12  8   8   7   7   7   6   5   3\n",
    "\n",
    "History Scores  10  25  17  11  13  17  20  13  9   15\n",
    "\n",
    "Compute the slope of the line of regression obtained while treating Physics as the independent variable. Compute the answer correct to three decimal places.\n",
    "\n",
    "Output Format\n",
    "\n",
    "In the text box, enter the floating point/decimal value required. Do not leave any leading or trailing spaces. Your answer may look like: 0.255\n",
    "\n",
    "This is NOT the actual answer - just the format in which you should provide your answer.\n"
   ]
  },
  {
   "cell_type": "code",
   "execution_count": 2,
   "metadata": {},
   "outputs": [],
   "source": [
    "# Hints by author:\n",
    "\n",
    "# --> We are going to look for regresison of form : y = A + Bx,  \n",
    "# where y - is the dependent var, and x - is an independent variable. \n",
    "# A,B are intercept and slope correspondingly. Our GOAL is only to find a SLOPE!\n",
    "\n",
    "# --> B is found by : B = R * S_y /S _x, where R is Pearson correlation coeff. \n",
    "# and S_y, S_x are std. deviations of y and x.\n",
    "\n",
    "# --> A is found by: A = mean(y) - B*mean(x)\n",
    "\n",
    "# Formula to compute Pearson Correlation coeff (PPMC) provided in \n",
    "# 'Correlation and Regression Lines - A Quick Recap - 1'"
   ]
  },
  {
   "cell_type": "code",
   "execution_count": 3,
   "metadata": {},
   "outputs": [],
   "source": [
    "import math"
   ]
  },
  {
   "cell_type": "code",
   "execution_count": 4,
   "metadata": {},
   "outputs": [],
   "source": [
    "Physics_Scores = [15,12,8,8,7,7,7,6,5,3]\n",
    "History_Scores = [10,25,17,11,13,17,20,13,9,15]"
   ]
  },
  {
   "cell_type": "code",
   "execution_count": 5,
   "metadata": {},
   "outputs": [],
   "source": [
    "def sum_of_sq(List):\n",
    "    \n",
    "    return sum([x**2 for x in List])"
   ]
  },
  {
   "cell_type": "code",
   "execution_count": 6,
   "metadata": {},
   "outputs": [],
   "source": [
    "def mean(List):\n",
    "    \n",
    "    return float(sum(List))/len(List)"
   ]
  },
  {
   "cell_type": "code",
   "execution_count": 7,
   "metadata": {},
   "outputs": [],
   "source": [
    "def PPMC(X,Y):\n",
    "    \n",
    "    N = len(X)\n",
    "    sum_XY = sum([a*b for a,b in zip(X,Y)])\n",
    "    sum_X_sq = sum_of_sq(X)\n",
    "    sum_Y_sq = sum_of_sq(Y)\n",
    "    \n",
    "    r = (N*sum_XY - sum(X)*sum(Y)) / math.sqrt ((N*sum_X_sq - sum(X)**2)*(N*sum_Y_sq - sum(Y)**2)) \n",
    "       \n",
    "    return r"
   ]
  },
  {
   "cell_type": "code",
   "execution_count": 7,
   "metadata": {},
   "outputs": [],
   "source": [
    "def std(List):\n",
    "    \n",
    "    var = sum( [(j - mean(List))**2  for j in List] )\n",
    "    \n",
    "    std_value = math.sqrt( var / (len(List)) )\n",
    "    \n",
    "    return std_value"
   ]
  },
  {
   "cell_type": "code",
   "execution_count": 8,
   "metadata": {},
   "outputs": [
    {
     "name": "stdout",
     "output_type": "stream",
     "text": [
      "0.144998154581\n",
      "3.24961536185\n",
      "4.66904701197\n",
      "0.208\n"
     ]
    }
   ],
   "source": [
    "R = PPMC(Physics_Scores,History_Scores)\n",
    "print(R)\n",
    "\n",
    "Std_Physics = std(Physics_Scores)\n",
    "print(Std_Physics)\n",
    "\n",
    "Std_History = std(History_Scores)\n",
    "print(Std_History)\n",
    "\n",
    "slope = float(R * Std_History) / Std_Physics  \n",
    "\n",
    "print(\"%.3f\" % slope)"
   ]
  },
  {
   "cell_type": "code",
   "execution_count": null,
   "metadata": {},
   "outputs": [],
   "source": []
  }
 ],
 "metadata": {
  "kernelspec": {
   "display_name": "Python 2",
   "language": "python",
   "name": "python2"
  },
  "language_info": {
   "codemirror_mode": {
    "name": "ipython",
    "version": 2
   },
   "file_extension": ".py",
   "mimetype": "text/x-python",
   "name": "python",
   "nbconvert_exporter": "python",
   "pygments_lexer": "ipython2",
   "version": "2.7.13"
  }
 },
 "nbformat": 4,
 "nbformat_minor": 2
}
