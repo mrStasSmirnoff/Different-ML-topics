{
 "cells": [
  {
   "cell_type": "markdown",
   "metadata": {},
   "source": [
    "Simple example of t-test calculation.\n",
    "\n",
    "Source: https://towardsdatascience.com/inferential-statistics-series-t-test-using-numpy-2718f8f9bf2f"
   ]
  },
  {
   "cell_type": "code",
   "execution_count": 1,
   "metadata": {},
   "outputs": [],
   "source": [
    "import numpy as np\n",
    "from scipy import stats"
   ]
  },
  {
   "cell_type": "markdown",
   "metadata": {},
   "source": [
    "Define 2 random distributions\n"
   ]
  },
  {
   "cell_type": "code",
   "execution_count": 12,
   "metadata": {},
   "outputs": [
    {
     "name": "stdout",
     "output_type": "stream",
     "text": [
      "[2.6976671  2.31419126 2.01742705 2.06494477 2.36366112 2.82393672\n",
      " 2.18913319 2.55697001 2.49994188 2.18189219 2.29648166 2.99062205\n",
      " 2.14129918 2.32884393 2.80656974 2.25294473 2.35900635 2.14503136\n",
      " 2.35522413 2.41842672 2.86913149 2.9961386  2.50416041 2.26919469\n",
      " 2.30502348 2.00687233 2.53144617 2.87995029 2.89434104 2.00271338\n",
      " 2.26553776 2.31901364 2.18097519 2.94743285 2.97430179 2.35064571\n",
      " 2.49170315 2.27725202 2.07124681 2.51840382 2.32241462 2.09124684\n",
      " 2.0868983  2.11647211 2.1221091  2.24661286 2.8407817  2.95159832\n",
      " 2.39668207 2.39366    2.13051577 2.91711426 2.07260315 2.34787298\n",
      " 2.88361246 2.12610162 2.53930061 2.64892488 2.81237849 2.14134046\n",
      " 2.3175454  2.01896933 2.61449006 2.80765348 2.47782946 2.51347132\n",
      " 2.55847403 2.36458295 2.27651329 2.38894506 2.94550938 2.68882493\n",
      " 2.94585022 2.0029346  2.9080525  2.69998373 2.35809794 2.21387367\n",
      " 2.30782389 2.53154009 2.39239752 2.57016665 2.65591784 2.19004571\n",
      " 2.13664903 2.11267262 2.10886183 2.47639569 2.21264003 2.526512\n",
      " 2.74073522 2.69620963 2.71502073 2.99704919 2.58206016 2.48755993\n",
      " 2.28762453 2.56438433 2.12667818 2.49066469]\n",
      "[-0.50464571  1.17147276  0.0092863   0.47845764 -0.93602988 -0.4258391\n",
      " -0.11913794  0.21519133 -0.16269383  1.710468    0.86302678  1.43827299\n",
      " -0.12202268  0.3998745   0.52087781 -0.9823408  -0.80657159  2.14682211\n",
      " -0.23751453 -0.027733   -0.22517091  0.34775265 -0.16235638 -1.01788896\n",
      " -0.22725199  1.0258296   0.47106139 -0.67100975  0.17875708  0.50104463\n",
      "  0.2311633   0.77685637  0.51308961  0.14380111 -0.20613522 -0.33427356\n",
      " -0.66483308  0.37001176 -0.10431612 -0.16998997  0.4966083  -0.94192257\n",
      " -0.32868131  1.34968032  0.89248402  0.3262194  -0.63218038 -0.29642632\n",
      "  1.46123253 -0.51597064 -2.02844245  0.42908802 -0.6367731  -2.71797797\n",
      "  0.51778231  1.43202527 -0.22226608  0.5746223  -0.27923307  0.10945218\n",
      " -0.06769172 -0.0794373  -1.79059983 -0.20462373 -1.56673774  0.47943528\n",
      " -1.46315901  0.66143011 -0.69767078 -0.53319935 -0.91201242  1.24488882\n",
      "  0.2917224   1.63211306 -0.52967433  0.36725244  0.35482616  0.06092913\n",
      "  0.30925607  1.20005858  1.88934919 -1.29829206  0.13206503  0.06204076\n",
      "  0.8166796  -1.40941949 -1.15094265 -1.26927891  0.94424999  0.01477226\n",
      " -0.40385026  0.63095042  1.39700962  0.09916155 -0.07034534 -1.28390175\n",
      " -0.25555871  1.16368874 -1.56429362 -0.40719957]\n"
     ]
    }
   ],
   "source": [
    "#Sample Size\n",
    "\n",
    "N = 100\n",
    "\n",
    "#Gaussian distributed data with mean = 2 and var = 1\n",
    "\n",
    "a = np.random.rand(N) + 2\n",
    "print(a)\n",
    "\n",
    "#Gaussian distributed data with with mean = 0 and var = 1\n",
    "\n",
    "b = np.random.randn(N)\n",
    "print(b)"
   ]
  },
  {
   "cell_type": "markdown",
   "metadata": {},
   "source": [
    "Calculate the Standard Deviation"
   ]
  },
  {
   "cell_type": "code",
   "execution_count": 15,
   "metadata": {},
   "outputs": [
    {
     "name": "stdout",
     "output_type": "stream",
     "text": [
      "(0.08366536485247265, 0.7946006548760352)\n",
      "0.662671117421194\n"
     ]
    }
   ],
   "source": [
    "#Calculate the variance to get the standard deviation\n",
    "#For unbiased max likelihood estimate we have to divide the var by N-1, and therefore the parameter ddof = 1\n",
    "\n",
    "var_a = a.var(ddof=1)\n",
    "var_b = b.var(ddof=1)\n",
    "\n",
    "print(var_a,var_b)\n",
    "\n",
    "# std\n",
    "\n",
    "s = np.sqrt((var_a + var_b)/2)\n",
    "print(s)"
   ]
  },
  {
   "cell_type": "markdown",
   "metadata": {},
   "source": [
    "Calculate t-statistics"
   ]
  },
  {
   "cell_type": "code",
   "execution_count": 18,
   "metadata": {},
   "outputs": [
    {
     "data": {
      "text/plain": [
       "25.97964824381796"
      ]
     },
     "execution_count": 18,
     "metadata": {},
     "output_type": "execute_result"
    }
   ],
   "source": [
    "from __future__ import division\n",
    "\n",
    "t = (a.mean() - b.mean())/(s*np.sqrt(2/N))\n",
    "t"
   ]
  },
  {
   "cell_type": "markdown",
   "metadata": {},
   "source": [
    "Compare with the critical t-value"
   ]
  },
  {
   "cell_type": "code",
   "execution_count": 20,
   "metadata": {},
   "outputs": [
    {
     "name": "stdout",
     "output_type": "stream",
     "text": [
      "198\n"
     ]
    }
   ],
   "source": [
    "#Degrees of freedom\n",
    "\n",
    "df = 2*N - 2\n",
    "print(df)"
   ]
  },
  {
   "cell_type": "code",
   "execution_count": 25,
   "metadata": {},
   "outputs": [
    {
     "name": "stdout",
     "output_type": "stream",
     "text": [
      "t = 25.97964824381796\n",
      "p = 0.0\n"
     ]
    }
   ],
   "source": [
    "#p-value after comparison with the t\n",
    "\n",
    "p = 1 - stats.t.cdf(t,df=df)\n",
    "\n",
    "\n",
    "print(\"t = \" + str(t))\n",
    "print(\"p = \" + str(2*p))\n",
    "\n",
    "#Note that we multiply the p value by 2 because its a two tail t-test"
   ]
  },
  {
   "cell_type": "markdown",
   "metadata": {},
   "source": [
    "You can see that after comparing the t statistic with the critical t value (computed internally) we get a good p value of 0.0 and thus we reject the null hypothesis and thus it proves that the mean of the two distributions are different and statistically significant.\n"
   ]
  },
  {
   "cell_type": "code",
   "execution_count": 26,
   "metadata": {},
   "outputs": [
    {
     "name": "stdout",
     "output_type": "stream",
     "text": [
      "t = 25.97964824381796\n",
      "p = 2.097046637879046e-65\n"
     ]
    }
   ],
   "source": [
    "## Cross Checking with the internal scipy function\n",
    "\n",
    "t2, p2 = stats.ttest_ind(a,b)\n",
    "print(\"t = \" + str(t2))\n",
    "print(\"p = \" + str(2*p2))"
   ]
  },
  {
   "cell_type": "markdown",
   "metadata": {},
   "source": [
    "Also quite a zero "
   ]
  },
  {
   "cell_type": "code",
   "execution_count": null,
   "metadata": {},
   "outputs": [],
   "source": []
  }
 ],
 "metadata": {
  "kernelspec": {
   "display_name": "Python 2",
   "language": "python",
   "name": "python2"
  },
  "language_info": {
   "codemirror_mode": {
    "name": "ipython",
    "version": 2
   },
   "file_extension": ".py",
   "mimetype": "text/x-python",
   "name": "python",
   "nbconvert_exporter": "python",
   "pygments_lexer": "ipython2",
   "version": "2.7.13"
  }
 },
 "nbformat": 4,
 "nbformat_minor": 2
}
