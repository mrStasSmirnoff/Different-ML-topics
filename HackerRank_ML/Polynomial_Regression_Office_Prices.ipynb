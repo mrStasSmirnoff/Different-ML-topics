{
 "cells": [
  {
   "cell_type": "markdown",
   "metadata": {},
   "source": [
    "# The Problem\n",
    "\n",
    "Charlie wants to purchase office-space. He does a detailed survey of the offices and corporate complexes in the area, and tries to quantify a lot of factors, such as the distance of the offices from residential and other commercial areas, schools and workplaces; the reputation of the construction companies and builders involved in constructing the apartments; the distance of the offices from highways, freeways and important roads; the facilities around the office space and so on.\n",
    "\n",
    "Each of these factors are quantified, normalized and mapped to values on a scale of 0 to 1. Charlie then makes a table. Each row in the table corresponds to Charlie's observations for a particular house. If Charlie has observed and noted F features, the row contains F values separated by a single space, followed by the office-space price in dollars/square-foot. If Charlie makes observations for H houses, his observation table has (F+1) columns and H rows, and a total of (F+1) * H entries.\n",
    "\n",
    "Charlie does several such surveys and provides you with the tabulated data. At the end of these tables are some rows which have just F columns (the price per square foot is missing). Your task is to predict these prices. F can be any integer number between 1 and 5, both inclusive.\n",
    "\n",
    "There is one important observation which Charlie has made.\n",
    "\n",
    "The prices per square foot, are (approximately) a polynomial function of the features in the observation table. This polynomial always has an order less than 4\n",
    "Input Format\n",
    "\n",
    "The first line contains two space separated integers, F and N. Over here, F is the number of observed features. N is the number of rows for which features as well as price per square-foot have been noted. \n",
    "This is followed by a table having F+1 columns and N rows with each row in a new line and each column separated by a single space. The last column is the price per square foot.\n",
    "\n",
    "The table is immediately followed by integer T followed by T rows containing F columns."
   ]
  },
  {
   "cell_type": "code",
   "execution_count": 1,
   "metadata": {},
   "outputs": [],
   "source": [
    "# Notes by author:\n",
    "# The task is pretty much the same as in 'Day_6_Multiple_Linear_Regression_Predicting_House_Prices'\n",
    "# We only need to define polynomial features. Therefore most of code is taken from\n",
    "# Day_6_Multiple_Linear_Regression_Predicting_House_Prices.pynb with extra added lines"
   ]
  },
  {
   "cell_type": "code",
   "execution_count": null,
   "metadata": {},
   "outputs": [],
   "source": [
    "from sklearn import linear_model\n",
    "from sklearn.preprocessing import PolynomialFeatures\n",
    "import numpy as np\n",
    "\n",
    "# define  the amount of features/colums (F) and samples/rows (N)\n",
    "\n",
    "F,N = map(int,raw_input().split())\n",
    "\n",
    "#N = int(raw_input())\n",
    "\n",
    "#print(F)\n",
    "#print(N)\n",
    "\n",
    "# We need to get the training data for our slope, to do so we need to  create two lists with data and label\n",
    "\n",
    "tr_data = []\n",
    "tr_labels = []\n",
    "\n",
    "for j in range(N):\n",
    "    \n",
    "    array = list(map(float,raw_input().split()))\n",
    "    \n",
    "    tr_data.append(array[:-1]) # append all trainig colums (1 and 2)\n",
    "    tr_labels.append(array[-1]) # append test column/last one (3)\n",
    "    \n",
    "    #print(array)\n",
    "    #print(tr_data)\n",
    "    #print(tr_labels)\n",
    "    #for i in range(len(array)):\n",
    "\n",
    "# Set Polynomial Features\n",
    "poly = PolynomialFeatures(degree=3)    \n",
    "    \n",
    "# Now when we have collected train data, we need to define regression and 'train' it basically    \n",
    "    \n",
    "clf = linear_model.LinearRegression()\n",
    "clf.fit(poly.fit_transform(np.array(tr_data)), tr_labels)\n",
    "\n",
    "slope = clf.intercept_\n",
    "#print(slope)\n",
    "coef = clf.coef_\n",
    "#print(coef)\n",
    "        \n",
    "# So our regression is trained , so now what is left to predict the price for the next \n",
    "# 'test' samples\n",
    "\n",
    "#new_N = map(int,raw_input().split())\n",
    "new_N = int(raw_input())\n",
    "\n",
    "tst_data = []\n",
    "\n",
    "for i in range(new_N):\n",
    "    \n",
    "    new_array = list(map(float,raw_input().split()))\n",
    "    tst_data.append(new_array)\n",
    "    \n",
    "result = clf.predict(poly.fit_transform(np.array(tst_data)))    \n",
    "\n",
    "for k in range(len(result)):\n",
    "    print(round(result[k],2))\n",
    "    "
   ]
  }
 ],
 "metadata": {
  "kernelspec": {
   "display_name": "Python 2",
   "language": "python",
   "name": "python2"
  },
  "language_info": {
   "codemirror_mode": {
    "name": "ipython",
    "version": 2
   },
   "file_extension": ".py",
   "mimetype": "text/x-python",
   "name": "python",
   "nbconvert_exporter": "python",
   "pygments_lexer": "ipython2",
   "version": "2.7.13"
  }
 },
 "nbformat": 4,
 "nbformat_minor": 2
}
