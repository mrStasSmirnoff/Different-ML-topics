{
 "cells": [
  {
   "cell_type": "markdown",
   "metadata": {},
   "source": [
    "## Day 0: Mean, Median, and Mode"
   ]
  },
  {
   "cell_type": "code",
   "execution_count": null,
   "metadata": {},
   "outputs": [],
   "source": [
    "import numpy as np\n",
    "from scipy import stats"
   ]
  },
  {
   "cell_type": "code",
   "execution_count": null,
   "metadata": {},
   "outputs": [],
   "source": [
    "size = int(input())\n",
    "numbers = list(map(int, input().split()))\n",
    "\n",
    "print(np.mean(numbers))\n",
    "print(np.median(numbers))\n",
    "print(int(stats.mode(numbers)[0]))"
   ]
  },
  {
   "cell_type": "markdown",
   "metadata": {},
   "source": [
    "## Day 0: Weighted Mean"
   ]
  },
  {
   "cell_type": "code",
   "execution_count": null,
   "metadata": {},
   "outputs": [],
   "source": [
    "size = int(input())\n",
    "numbers = list(map(int, input().split()))\n",
    "weightes = list(map(int, input().split()))\n",
    "\n",
    "weighted_sum = 0\n",
    "\n",
    "for element in range(size):\n",
    "    \n",
    "    weighted_sum += numbers[element]*weightes[element]\n",
    "    \n",
    "print(round(weighted_sum/ sum(weightes),1))"
   ]
  },
  {
   "cell_type": "markdown",
   "metadata": {},
   "source": [
    "## Day 1: Standard Deviation"
   ]
  },
  {
   "cell_type": "code",
   "execution_count": null,
   "metadata": {},
   "outputs": [],
   "source": [
    "import math\n",
    "\n",
    "def mean(data):\n",
    "    \n",
    "    return sum(data)/ len(data)\n",
    "\n",
    "def stddeviation(data, size):\n",
    "    variance = 0\n",
    "    \n",
    "    for i in range(size):\n",
    "        \n",
    "        variance += (data[i] - mean(data))**2\n",
    "        \n",
    "    return math.sqrt(variance / size)\n",
    "\n",
    "# Input\n",
    "size = int(input())\n",
    "numbers = list(map(int, input().split()))\n",
    "\n",
    "# Print\n",
    "print(round(stddeviation(numbers, size), 1))"
   ]
  },
  {
   "cell_type": "markdown",
   "metadata": {},
   "source": [
    "## Day 1: Quartiles"
   ]
  },
  {
   "cell_type": "code",
   "execution_count": null,
   "metadata": {},
   "outputs": [],
   "source": [
    "# Define functions\n",
    "def median(size, values):\n",
    "    if size % 2 == 0:\n",
    "        median = (values[int(size/2)-1] + values[int(size/2)]) / 2\n",
    "    else:\n",
    "        median = values[int(size/2)]\n",
    "    return int(median)\n",
    "\n",
    "# Input\n",
    "size = int(input())\n",
    "numbers = sorted(list(map(int, input().split())))\n",
    "\n",
    "# Verify that the total data is even or odd\n",
    "if size % 2 == 0:\n",
    "    data_low = numbers[0:int(size/2)]\n",
    "    data_high = numbers[int(size/2):size]\n",
    "else:\n",
    "    data_low = numbers[0:int(size/2)]\n",
    "    data_high = numbers[int(size/2)+1:size]\n",
    "\n",
    "# Print\n",
    "print (median(len(data_low), data_low))\n",
    "print (median(size, numbers))\n",
    "print (median(len(data_high), data_high))"
   ]
  },
  {
   "cell_type": "markdown",
   "metadata": {},
   "source": [
    "## Day 1: Interquartile Range"
   ]
  },
  {
   "cell_type": "code",
   "execution_count": null,
   "metadata": {},
   "outputs": [],
   "source": [
    "# Define functions\n",
    "\n",
    "def median(size, values):\n",
    "    if size % 2 == 0:\n",
    "        median = (values[int(size/2)-1] + values[int(size/2)]) / 2\n",
    "    else:\n",
    "        median = float(values[int(size/2)])\n",
    "    return median\n",
    "\n",
    "# Input\n",
    "size = int(input())\n",
    "elements = list(map(int, input().split()))\n",
    "frequencies = list(map(int, input().split()))\n",
    "\n",
    "new_data = []\n",
    "for i in range(len(elements)):\n",
    "    for j in range(frequencies[i]):\n",
    "        new_data.append(elements[i])\n",
    "new_data = sorted(new_data)\n",
    "\n",
    "# Verify that the total data is even or odd\n",
    "size = int(len(new_data))\n",
    "if size % 2 == 0:\n",
    "    data_low = new_data[0:int(size/2)]\n",
    "    data_high = new_data[int(size/2):size]\n",
    "else:\n",
    "    data_low = new_data[0:int(size/2)]\n",
    "    data_high = new_data[int(size/2)+1:size]\n",
    "\n",
    "# Print\n",
    "low = median(len(data_low), data_low)\n",
    "high = median(len(data_high), data_high)\n",
    "print(high - low)"
   ]
  },
  {
   "cell_type": "markdown",
   "metadata": {},
   "source": [
    "## Day 2: Basic Probability"
   ]
  },
  {
   "cell_type": "markdown",
   "metadata": {},
   "source": [
    "**Answer**: 5/6\n",
    "\n",
    "There are 6 possibilities on each die. On 2 dice, there are 6 * 6 = 36 possibilities\n",
    "\n",
    "There are 6 cases where sum >= 10: (4,6), (5,5), (5,6), (6,4), (6,5), (6,6)\n",
    "\n",
    "This gives us probability(sum >= 10) = 6/36 = 1/6\n",
    "\n",
    "That means probability(sum <= 9) = 1 - 1/6 = 5/6"
   ]
  },
  {
   "cell_type": "markdown",
   "metadata": {},
   "source": [
    "## Day 2: More Dice"
   ]
  },
  {
   "cell_type": "markdown",
   "metadata": {},
   "source": [
    "**Answer**: 1/9\n",
    "\n",
    "There are 6 possibilities on each die. On 2 dice, there are 6 * 6 = 36 possibilities\n",
    "\n",
    "There are 4 cases that match the desired criteria: (1,5) (5,1) (2,4) (4,2)\n",
    "\n",
    "This gives us a probability of 4/36 = 1/9"
   ]
  },
  {
   "cell_type": "markdown",
   "metadata": {},
   "source": [
    "## Day 2: Compound Event Probability"
   ]
  },
  {
   "cell_type": "markdown",
   "metadata": {},
   "source": [
    "**Answer**: 17/42\n",
    "\n",
    "- Urn **X** has a 4/7 probability of giving a red ball\n",
    "- Urn **Y** has a 5/9 probability of giving a red ball\n",
    "- Urn **Z** has a 1/2 probability of giving a red ball\n",
    "\n",
    "\n",
    "- Urn **X** has a 3/7 probability of giving a black ball\n",
    "- Urn **Y** has a 4/9 probability of giving a black ball\n",
    "- Urn **Z** has a 1/2 probability of giving a black ball\n",
    "\n",
    "Calculating:\n",
    "\n",
    "$$P(2 red, 1 black) = P(Red,Red,Black) + P(Red,Black,Red) + P(Black,Red,Red)\n",
    "                  = (4/7)(5/9)(1/2) + (4/7)(4/9)(1/2) + (3/7)(5/9)(1/2)\n",
    "                  = 20/126 + 16/126 + 15/126\n",
    "                  = 51/126\n",
    "                  = 17/42$$"
   ]
  },
  {
   "cell_type": "markdown",
   "metadata": {},
   "source": [
    "## Day 3: Conditional Probability"
   ]
  },
  {
   "cell_type": "markdown",
   "metadata": {},
   "source": [
    "**Answer:** 1/3\n",
    "\n",
    "There are 4 possible scenarios: (B, B), (B, G), (G, B), (G, G)\n",
    "\n",
    "We know that 1 child is a boy, so now we have 3 scenarios: (B, B), (B, G), (G, B)\n",
    "\n",
    "When asked, \"what is the probability that both children are boys\", the only scenario that matches this is: (B, B). That is, only 1 of the 3 scenarios satisfies the critera, so there is a 1/3 chance that both children are boys.\n"
   ]
  },
  {
   "cell_type": "markdown",
   "metadata": {},
   "source": [
    "## Day 3: Cards of the Same Suit"
   ]
  },
  {
   "cell_type": "markdown",
   "metadata": {},
   "source": [
    "**Answer:** 12/51\n",
    "\n",
    "There are 13 of each suit in a deck.\n",
    "\n",
    "We can view this as 2 separate events. First we draw 1 card and see what suit it is. Whatever suit it is, there are 12 of the same matching suit remaining in the 51-card deck. Therefore, when we draw the 2nd card, there is a 12/51 chance that it is the same suit.\n"
   ]
  },
  {
   "cell_type": "markdown",
   "metadata": {},
   "source": [
    "## Day 3: Drawing Marbles"
   ]
  },
  {
   "cell_type": "markdown",
   "metadata": {},
   "source": [
    "**Answer:** 2/3\n",
    "\n",
    "After drawing the first marble, we are left with 2 red marbles and 4 blue marbles. Now we calculate the probability of drawing a blue marble as :\n",
    "\n",
    "= (amount of blue marbles) / (total amount of marbles)\n",
    "= 4 / (2 + 4)\n",
    "= 2 / 3"
   ]
  },
  {
   "cell_type": "markdown",
   "metadata": {},
   "source": [
    "## Day 4: Binomial Distribution I"
   ]
  },
  {
   "cell_type": "code",
   "execution_count": null,
   "metadata": {},
   "outputs": [],
   "source": [
    "# Lets define factorial recursively\n",
    "\n",
    "def factorial(n):\n",
    "    \n",
    "    if n == 1 or n == 0:\n",
    "        return 1\n",
    "    \n",
    "    if n > 1:\n",
    "        return factorial(n-1)*n\n",
    "    \n",
    "def binomial(n,k,p):\n",
    "    \n",
    "    f = factorial(n) / (factorial(k)* factorial(n-k))\n",
    "    return f*p**k*(1-p)**(n-k)\n",
    "\n",
    "\n",
    "# Input\n",
    "values = list(map(float, input().split()))\n",
    "p = values[0] / (values[0] + values[1])\n",
    "n = 6\n",
    "\n",
    "# Get binomial result\n",
    "result = binomial(n,3,p) + binomial(n,4,p) + binomial(n,5,p) + binomial(n,6,p)\n",
    "print(round(result, 3))    "
   ]
  },
  {
   "cell_type": "markdown",
   "metadata": {},
   "source": [
    "## Day 4: Binomial Distribution II"
   ]
  },
  {
   "cell_type": "code",
   "execution_count": null,
   "metadata": {},
   "outputs": [],
   "source": [
    "def factorial(n):\n",
    "    \n",
    "    if n == 1 or n == 0:\n",
    "        return 1\n",
    "    \n",
    "    if n > 1:\n",
    "        return factorial(n-1)*n\n",
    "    \n",
    "def binomial(n,k,p):\n",
    "    \n",
    "    f = factorial(n) / (factorial(k)* factorial(n-k))\n",
    "    return f*p**k*(1-p)**(n-k)\n",
    "\n",
    "\n",
    "# Set data\n",
    "values = list(map(float, input().split()))\n",
    "p = (values[0] / 100)\n",
    "n = int(values[1])\n",
    "\n",
    "# No more than 2 rejections\n",
    "\n",
    "no_more_than_2_rej = 0\n",
    "\n",
    "for i in range(n):\n",
    "    \n",
    "    if i < 3:\n",
    "        no_more_than_2_rej += binomial(n,i,p)\n",
    "print(round(no_more_than_2_rej, 3))    \n",
    "\n",
    "# At lease two rejection\n",
    "\n",
    "at_least_2_rej = 0\n",
    "\n",
    "for i in range(n):\n",
    "    \n",
    "    if i>1:\n",
    "        \n",
    "        at_least_2_rej += binomial(n,i,p)\n",
    "print(round(at_least_2_rej, 3))    "
   ]
  },
  {
   "cell_type": "markdown",
   "metadata": {},
   "source": [
    "## Day 4: Geometric Distribution I\n",
    "\n",
    "Theory : [Geometric Distribution](https://www.hackerrank.com/challenges/s10-geometric-distribution-1/tutorial)"
   ]
  },
  {
   "cell_type": "code",
   "execution_count": null,
   "metadata": {},
   "outputs": [],
   "source": [
    "#Input \n",
    "\n",
    "probability = list(map(int, input().split()))\n",
    "p = probability[0] / probability[1]\n",
    "q = 1 - p\n",
    "n = int(input())\n",
    "\n",
    "# Print\n",
    "result = q ** (n - 1) * p\n",
    "print(round(result, 3))"
   ]
  },
  {
   "cell_type": "markdown",
   "metadata": {},
   "source": [
    "## Day 4: Geometric Distribution II"
   ]
  },
  {
   "cell_type": "code",
   "execution_count": null,
   "metadata": {},
   "outputs": [],
   "source": [
    "# Input\n",
    "\n",
    "probability = list(map(int, input().split()))\n",
    "p = probability[0] / probability[1]\n",
    "q = 1 - p\n",
    "n = int(input())\n",
    "\n",
    "# Get Geometric Distribution\n",
    "result = 0\n",
    "for i in range(n + 1):\n",
    "    if i > 0:\n",
    "        result = result + (q ** (i - 1) * p)\n",
    "\n",
    "# Print\n",
    "print(round(result, 3))"
   ]
  },
  {
   "cell_type": "markdown",
   "metadata": {},
   "source": [
    "## Day 5: Poisson Distribution I"
   ]
  },
  {
   "cell_type": "code",
   "execution_count": null,
   "metadata": {},
   "outputs": [],
   "source": [
    "def factorial(n):\n",
    "    \n",
    "    if n == 1 or n == 0:\n",
    "        return 1\n",
    "    \n",
    "    if n > 1:\n",
    "        return factorial(n-1)*n\n",
    "\n",
    "\n",
    "# input\n",
    "\n",
    "lambda_ = float(input())\n",
    "k = float(input())\n",
    "\n",
    "# Print\n",
    "e = 2.71828\n",
    "porb_poisson = ((lambda_ ** k) * (e ** -lambda_)) /  factorial(k)\n",
    "print(round(porb_poisson, 3))"
   ]
  },
  {
   "cell_type": "markdown",
   "metadata": {},
   "source": [
    "## Day 5: Poisson Distribution II"
   ]
  },
  {
   "cell_type": "code",
   "execution_count": null,
   "metadata": {},
   "outputs": [],
   "source": [
    "def factorial(n):\n",
    "    \n",
    "    if n == 1 or n == 0:\n",
    "        return 1\n",
    "    \n",
    "    if n > 1:\n",
    "        return factorial(n-1)*n\n",
    "\n",
    "\n",
    "# input\n",
    "\n",
    "lambdas = list(map(float, input().split()))\n",
    "\n",
    "lambda_A = lambdas[0]\n",
    "lambda_B = lambdas[1]\n",
    "\n",
    "# Print\n",
    "# E[X^2] = \\lambda + \\lambda^2\n",
    "\n",
    "print (round(160 + 40 * (lambda_A + lambda_A ** 2), 3))\n",
    "print (round(128 + 40 * (lambda_B + lambda_B ** 2), 3))"
   ]
  },
  {
   "cell_type": "markdown",
   "metadata": {},
   "source": [
    "## Day 5: Normal Distribution I\n",
    "\n",
    "Theory: [Normal distribution](https://www.hackerrank.com/challenges/s10-normal-distribution-1/tutorial)"
   ]
  },
  {
   "cell_type": "code",
   "execution_count": null,
   "metadata": {},
   "outputs": [],
   "source": [
    "import math\n",
    "\n",
    "def cumulative_dist(mean, std, value):\n",
    "    return 0.5 * (1 + math.erf((value - mean) / (std * (2 ** 0.5))))\n",
    "\n",
    "# Input\n",
    "\n",
    "#Mean and Std\n",
    "\n",
    "input_values = list(map(float, input().split()))\n",
    "mean = input_values[0]\n",
    "std = input_values[1]\n",
    "# Less than\n",
    "less_period = float(input())\n",
    "# Between \n",
    "between_period = list(map(float, input().split()))\n",
    "\n",
    "# Print\n",
    "print (round(cumulative(mean, std, less_period),3))\n",
    "print (round(cumulative(mean, std, between_period[1]) - cumulative(mean, std, between_period[0]), 3))"
   ]
  },
  {
   "cell_type": "markdown",
   "metadata": {},
   "source": [
    "## Day 5: Normal Distribution II"
   ]
  },
  {
   "cell_type": "code",
   "execution_count": null,
   "metadata": {},
   "outputs": [],
   "source": [
    "import math\n",
    "\n",
    "\n",
    "def cumulative(mean, std, value):\n",
    "    return 0.5 * (1 + math.erf((value - mean) / (std * (2 ** 0.5))))\n",
    "\n",
    "# Input \n",
    "\n",
    "input_values = list(map(float, input().split()))\n",
    "mean = input_values[0]\n",
    "std = input_values[1]\n",
    "val_first_question = float(input())\n",
    "val_sec_third_question = float(input())\n",
    "\n",
    "# Gets the result and show on the screen\n",
    "print (round(100 - (cumulative(mean, std, val_first_question) * 100), 2))\n",
    "print (round(100 - (cumulative(mean, std, val_sec_third_question) * 100), 2))\n",
    "print (round(cumulative(mean, std, val_sec_third_question) * 100, 2))"
   ]
  },
  {
   "cell_type": "markdown",
   "metadata": {},
   "source": [
    "## Day 6: The Central Limit Theorem I"
   ]
  },
  {
   "cell_type": "code",
   "execution_count": null,
   "metadata": {},
   "outputs": [],
   "source": [
    "import math\n",
    "\n",
    "\n",
    "def cumulative(mean, std, value):\n",
    "    return 0.5 * (1 + math.erf((value - mean) / (std * (2 ** 0.5))))\n",
    "\n",
    "# Input\n",
    "max_weight = float(input())\n",
    "n = float(input())\n",
    "mean = float(input())\n",
    "std = float(input())\n",
    "\n",
    "# Re-estimate mean and var\n",
    "cummul_mean = mean*n\n",
    "cummul_std = math.sqrt(n)*std\n",
    "\n",
    "# Print\n",
    "print (round(cumulative(cummul_mean, cummul_std, max_weight),4))"
   ]
  },
  {
   "cell_type": "markdown",
   "metadata": {},
   "source": [
    "## Day 6: The Central Limit Theorem II\n"
   ]
  },
  {
   "cell_type": "code",
   "execution_count": null,
   "metadata": {},
   "outputs": [],
   "source": [
    "import math\n",
    "\n",
    "\n",
    "def cumulative(mean, std, value):\n",
    "    return 0.5 * (1 + math.erf((value - mean) / (std * (2 ** 0.5))))\n",
    "\n",
    "\n",
    "# Input\n",
    "max_weight = float(input())\n",
    "n = float(input())\n",
    "mean = float(input())\n",
    "std = float(input())\n",
    "\n",
    "# Re-estimate mean and var\n",
    "cummul_mean = mean*n\n",
    "cummul_std = math.sqrt(n)*std\n",
    "\n",
    "\n",
    "# Print\n",
    "print (round(cumulative(cummul_mean, cummul_std, max_weight),4))"
   ]
  },
  {
   "cell_type": "markdown",
   "metadata": {},
   "source": [
    "## Day 6: The Central Limit Theorem III"
   ]
  },
  {
   "cell_type": "code",
   "execution_count": null,
   "metadata": {},
   "outputs": [],
   "source": [
    "# We need to compute confidence interval\n",
    "import math\n",
    "\n",
    "#Input\n",
    "n = float(input())\n",
    "mean = float(input())\n",
    "std = float(input())\n",
    "CI_percent = float(input())\n",
    "CI_value = float(input())\n",
    "\n",
    "CI = CI_value*(std / math.sqrt(n))\n",
    "\n",
    "# Print\n",
    "\n",
    "print(round(mean - CI, 2))\n",
    "print(round(mean + CI, 2))"
   ]
  },
  {
   "cell_type": "markdown",
   "metadata": {},
   "source": [
    "## Day 7: Pearson Correlation Coefficient I"
   ]
  },
  {
   "cell_type": "code",
   "execution_count": null,
   "metadata": {},
   "outputs": [],
   "source": [
    "import math\n",
    "\n",
    "def mean(List):\n",
    "    return float(sum(List))/len(List)\n",
    "\n",
    "\n",
    "def var(List):\n",
    "    var = 0\n",
    "    var = sum( [(j - mean(List))**2  for j in List] )\n",
    "\n",
    "    #for j in range(len(List)):\n",
    "        \n",
    "        #var += (List[j] - mean(List)) **2 \n",
    "    \n",
    "    return var\n",
    "\n",
    "def covariance(X,Y):\n",
    "    covar = 0\n",
    "    \n",
    "    for j in range(len(X)):\n",
    "        covar +=  (X[j] - mean(X)) * (Y[j] - mean(Y))\n",
    "    return covar\n",
    "\n",
    "\n",
    "def Pearson_corr_coeff(X,Y):\n",
    "    r = covariance(X,Y) / math.sqrt(var(X)*var(Y))\n",
    "    return r\n",
    "\n",
    "# Input\n",
    "\n",
    "n = input()\n",
    "X = input()\n",
    "Y = input()\n",
    "\n",
    "X, Y = X.split(' '), Y.split( ' ')\n",
    "X.pop()\n",
    "X = [float(x) for x in X]\n",
    "Y = [float(y) for y in Y]\n",
    "\n",
    "\n",
    "print (round(Pearson_corr_coeff(X, Y), 3))"
   ]
  },
  {
   "cell_type": "markdown",
   "metadata": {},
   "source": [
    "## Day 7: Spearman's Rank Correlation Coefficient"
   ]
  },
  {
   "cell_type": "code",
   "execution_count": null,
   "metadata": {},
   "outputs": [],
   "source": [
    "# Compute the rank\n",
    "# We need to sort an array and numerate it\n",
    "\n",
    "def rank(arr):\n",
    "    rank = {}\n",
    "    sorted_arr = sorted(arr)\n",
    "    \n",
    "    for i in range(len(arr)):\n",
    "        for j in range(len(sorted_arr)):\n",
    "            if arr[i] == sorted_arr[j]:\n",
    "                rank[arr[i]] = j + 1\n",
    "    return rank\n",
    "\n",
    "def spearman(x, y, rx, ry, n):\n",
    "    diff_rank = 0\n",
    "    for i in range(n):\n",
    "        if rx[x[i]] != ry[y[i]]:\n",
    "            diff_rank = diff_rank + ((rx[x[i]] - ry[y[i]]) ** 2)\n",
    "    return (6 * diff_rank) / (n ** 3 - n)\n",
    "\n",
    "# Set data\n",
    "n = int(float(input()))\n",
    "data_set_x = list(map(float, input().split()))\n",
    "data_set_y = list(map(float, input().split()))\n",
    "\n",
    "# Get rank\n",
    "rank_x = rank(data_set_x)\n",
    "rank_y = rank(data_set_y)\n",
    "\n",
    "# Gets the result and show on the screen\n",
    "s = spearman(data_set_x, data_set_y, rank_x, rank_y, n)\n",
    "print(round(1 - s, 3))"
   ]
  },
  {
   "cell_type": "markdown",
   "metadata": {},
   "source": [
    "## Day 8: Least Square Regression Line"
   ]
  },
  {
   "cell_type": "code",
   "execution_count": null,
   "metadata": {},
   "outputs": [],
   "source": [
    "# import \n",
    "\n",
    "import statistics as st\n",
    "import math\n",
    "\n",
    "# Copy calc of Pearson Correlation coeff\n",
    "\n",
    "def mean(List):\n",
    "    return float(sum(List))/len(List)\n",
    "\n",
    "def var(List):\n",
    "    var = 0\n",
    "    var = sum( [(j - mean(List))**2  for j in List] )\n",
    "\n",
    "    #for j in range(len(List)):\n",
    "        \n",
    "        #var += (List[j] - mean(List)) **2 \n",
    "    return var\n",
    "\n",
    "def std(List):\n",
    "    var = sum( [(j - mean(List))**2  for j in List] )\n",
    "    std_value = math.sqrt(var / (len(List)))\n",
    "    return std_value\n",
    "\n",
    "def covariance(X,Y):\n",
    "    covar = 0\n",
    "    \n",
    "    for j in range(len(X)):\n",
    "        covar +=  (X[j] - mean(X)) * (Y[j] - mean(Y))\n",
    "    return covar\n",
    "\n",
    "def Pearson_corr_coeff(X,Y):\n",
    "    r = covariance(X,Y) / math.sqrt(var(X)*var(Y))\n",
    "    return r\n",
    "\n",
    "\n",
    "# Set data\n",
    "n = 5\n",
    "x = [95, 85, 80, 70, 60]\n",
    "y = [85, 95, 70, 65, 70]\n",
    "\n",
    "\n",
    "std_y = std(y)\n",
    "std_x = std(x)\n",
    "\n",
    "mean_y = mean(y)\n",
    "mean_x = mean(x)\n",
    "\n",
    "rho = Pearson_corr_coeff(x,y)\n",
    "\n",
    "slobe_b = rho * (std_y/std_x)\n",
    "intercept_a = mean_y - slobe_b*mean_x\n",
    "\n",
    "\n",
    "# Print the result\n",
    "print (round(intercept_a + 80 * slobe_b, 3))"
   ]
  },
  {
   "cell_type": "markdown",
   "metadata": {},
   "source": [
    "## Day 8: Pearson Correlation Coefficient II"
   ]
  },
  {
   "cell_type": "markdown",
   "metadata": {},
   "source": [
    "**Regression X:**\n",
    "\n",
    "3x + 4y + 8 = 0\n",
    "\n",
    "-4y = 3x + 8\n",
    "\n",
    "-y = 3x/4 + 8/4\n",
    "\n",
    "-y = 3x/4 + 2 (*(-1))\n",
    "\n",
    "y = -3x/4 - 2\n",
    "\n",
    "b_x = -3/4\n",
    "\n",
    "**Regression Y:**\n",
    "\n",
    "4x + 3y + 7 = 0\n",
    "\n",
    "-4y = 3y + 7\n",
    "\n",
    "-x = 3x/4 + 7/4 (*(-1))\n",
    "\n",
    "y =  -3x/4 - 7/4\n",
    "\n",
    "b_y = -3/4\n",
    "\n",
    "\n",
    "\n",
    "r² = bx * by\n",
    "\n",
    "r² = -3/4 * -3/4\n",
    "\n",
    "r² = 9/16\n",
    "\n",
    "r +/- 3/4\n",
    "\n",
    "if b_x = b_y then\n",
    "\n",
    "**r = -3/4**\n"
   ]
  }
 ],
 "metadata": {
  "kernelspec": {
   "display_name": "Python 3",
   "language": "python",
   "name": "python3"
  },
  "language_info": {
   "codemirror_mode": {
    "name": "ipython",
    "version": 3
   },
   "file_extension": ".py",
   "mimetype": "text/x-python",
   "name": "python",
   "nbconvert_exporter": "python",
   "pygments_lexer": "ipython3",
   "version": "3.5.3"
  }
 },
 "nbformat": 4,
 "nbformat_minor": 2
}
